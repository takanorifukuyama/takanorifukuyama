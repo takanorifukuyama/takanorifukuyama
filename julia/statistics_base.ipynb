{
 "cells": [
  {
   "cell_type": "code",
   "execution_count": 5,
   "id": "707f5053",
   "metadata": {},
   "outputs": [
    {
     "name": "stderr",
     "output_type": "stream",
     "text": [
      "Fontconfig warning: ignoring UTF-8: not a valid region tag\n",
      "\u001b[32m\u001b[1m   Resolving\u001b[22m\u001b[39m package versions...\n",
      "\u001b[32m\u001b[1m  No Changes\u001b[22m\u001b[39m to `~/.julia/environments/v1.7/Project.toml`\n",
      "\u001b[32m\u001b[1m  No Changes\u001b[22m\u001b[39m to `~/.julia/environments/v1.7/Manifest.toml`\n",
      "\u001b[32m\u001b[1m   Resolving\u001b[22m\u001b[39m package versions...\n",
      "\u001b[32m\u001b[1m  No Changes\u001b[22m\u001b[39m to `~/.julia/environments/v1.7/Project.toml`\n",
      "\u001b[32m\u001b[1m  No Changes\u001b[22m\u001b[39m to `~/.julia/environments/v1.7/Manifest.toml`\n",
      "\u001b[32m\u001b[1m   Resolving\u001b[22m\u001b[39m package versions...\n",
      "\u001b[32m\u001b[1m  No Changes\u001b[22m\u001b[39m to `~/.julia/environments/v1.7/Project.toml`\n",
      "\u001b[32m\u001b[1m  No Changes\u001b[22m\u001b[39m to `~/.julia/environments/v1.7/Manifest.toml`\n",
      "\u001b[32m\u001b[1m   Resolving\u001b[22m\u001b[39m package versions...\n",
      "\u001b[32m\u001b[1m  No Changes\u001b[22m\u001b[39m to `~/.julia/environments/v1.7/Project.toml`\n",
      "\u001b[32m\u001b[1m  No Changes\u001b[22m\u001b[39m to `~/.julia/environments/v1.7/Manifest.toml`\n",
      "\u001b[32m\u001b[1m   Resolving\u001b[22m\u001b[39m package versions...\n",
      "\u001b[32m\u001b[1m  No Changes\u001b[22m\u001b[39m to `~/.julia/environments/v1.7/Project.toml`\n",
      "\u001b[32m\u001b[1m  No Changes\u001b[22m\u001b[39m to `~/.julia/environments/v1.7/Manifest.toml`\n",
      "\u001b[32m\u001b[1m   Resolving\u001b[22m\u001b[39m package versions...\n",
      "\u001b[32m\u001b[1m  No Changes\u001b[22m\u001b[39m to `~/.julia/environments/v1.7/Project.toml`\n",
      "\u001b[32m\u001b[1m  No Changes\u001b[22m\u001b[39m to `~/.julia/environments/v1.7/Manifest.toml`\n",
      "\u001b[32m\u001b[1m   Resolving\u001b[22m\u001b[39m package versions...\n",
      "\u001b[32m\u001b[1m  No Changes\u001b[22m\u001b[39m to `~/.julia/environments/v1.7/Project.toml`\n",
      "\u001b[32m\u001b[1m  No Changes\u001b[22m\u001b[39m to `~/.julia/environments/v1.7/Manifest.toml`\n",
      "\u001b[32m\u001b[1m   Resolving\u001b[22m\u001b[39m package versions...\n",
      "\u001b[32m\u001b[1m  No Changes\u001b[22m\u001b[39m to `~/.julia/environments/v1.7/Project.toml`\n",
      "\u001b[32m\u001b[1m  No Changes\u001b[22m\u001b[39m to `~/.julia/environments/v1.7/Manifest.toml`\n",
      "\u001b[32m\u001b[1m   Resolving\u001b[22m\u001b[39m package versions...\n",
      "\u001b[32m\u001b[1m  No Changes\u001b[22m\u001b[39m to `~/.julia/environments/v1.7/Project.toml`\n",
      "\u001b[32m\u001b[1m  No Changes\u001b[22m\u001b[39m to `~/.julia/environments/v1.7/Manifest.toml`\n",
      "\u001b[32m\u001b[1m   Resolving\u001b[22m\u001b[39m package versions...\n",
      "\u001b[32m\u001b[1m  No Changes\u001b[22m\u001b[39m to `~/.julia/environments/v1.7/Project.toml`\n",
      "\u001b[32m\u001b[1m  No Changes\u001b[22m\u001b[39m to `~/.julia/environments/v1.7/Manifest.toml`\n",
      "\u001b[32m\u001b[1m   Resolving\u001b[22m\u001b[39m package versions...\n",
      "\u001b[32m\u001b[1m  No Changes\u001b[22m\u001b[39m to `~/.julia/environments/v1.7/Project.toml`\n",
      "\u001b[32m\u001b[1m  No Changes\u001b[22m\u001b[39m to `~/.julia/environments/v1.7/Manifest.toml`\n",
      "\u001b[32m\u001b[1m   Resolving\u001b[22m\u001b[39m package versions...\n",
      "\u001b[32m\u001b[1m  No Changes\u001b[22m\u001b[39m to `~/.julia/environments/v1.7/Project.toml`\n",
      "\u001b[32m\u001b[1m  No Changes\u001b[22m\u001b[39m to `~/.julia/environments/v1.7/Manifest.toml`\n"
     ]
    }
   ],
   "source": [
    "using Pkg\n",
    "Pkg.add(\"Plots\")\n",
    "Pkg.add(\"Cairo\")\n",
    "Pkg.add(\"CSV\")\n",
    "Pkg.add(\"DataFrames\")\n",
    "Pkg.add(\"DataFramesMeta\")\n",
    "Pkg.add(\"Distances\")\n",
    "Pkg.add(\"Distributions\")\n",
    "Pkg.add(\"Fontconfig\")\n",
    "Pkg.add(\"Gadfly\")\n",
    "Pkg.add(\"GLM\")\n",
    "Pkg.add(\"HypothesisTests\")\n",
    "Pkg.add(\"Statistics\")"
   ]
  },
  {
   "cell_type": "markdown",
   "id": "22342f08",
   "metadata": {},
   "source": [
    "## Chi-square test"
   ]
  },
  {
   "cell_type": "code",
   "execution_count": 17,
   "id": "f0c447fd",
   "metadata": {},
   "outputs": [],
   "source": [
    "using CSV, Gadfly, DataFrames, DataFramesMeta, Statistics, HypothesisTests, Cairo, Fontconfig\n",
    "\n",
    "dat = CSV.File(\"datasets/ladybirds_morph_colour.csv\") |> DataFrame\n",
    "\n",
    "describe(dat)\n",
    "combine(groupby(dat, :Habitat), :number => mean => :m)\n",
    "\n",
    "# display data on graphs\n",
    "plot(dat, y = :number)\n",
    "draw(PDF(\"fig/ladybird_1.pdf\", 8cm, 6cm), plot(dat, y = :number))\n",
    "\n",
    "plot(dat, x = :morph_colour, y = :number)\n",
    "plot(dat, x = :morph_colour, y = :number, Geom.bar)\n",
    "plot(dat, x = :morph_colour, y = :number, Geom.boxplot)\n",
    "plot(dat, x = :Habitat, y = :number, color = :morph_colour, Geom.bar)\n",
    "plot(dat, x = :Habitat, y = :number, color = :morph_colour, Geom.boxplot)\n",
    "\n",
    "# make a bar chart summarizing each group and save it as a pdf file\n",
    "p = plot(dat, xgroup = :Habitat, x = :morph_colour, y = :number, \n",
    "        color = :morph_colour, Geom.subplot_grid(Geom.bar()))\n",
    "draw(PDF(\"fig/ladybird_7.pdf\", 8cm, 6cm), p)\n",
    "\n",
    "cont = combine(groupby(dat, [:Habitat, :morph_colour]), :number => sum)\n",
    "res = ChisqTest(reshape(cont[:, :number_sum], 2, 2))\n",
    "pvalue(res)\n",
    "\n",
    "p = plot(dat, xgroup=:Habitat, x=:morph_colour, y=:number,\n",
    "        color=:morph_colour,\n",
    "        Scale.color_discrete_manual(\"black\", \"red\"),\n",
    "        Scale.y_continuous(minvalue = 0),\n",
    "        Guide.ylabel(\"個体数\"),\n",
    "        Guide.title(\"住むところごとの各色のてんとう虫の数\"),\n",
    "        Geom.subplot_grid(Geom.bar()))\n",
    "draw(PDF(\"fig/ladybird_8.pdf\", 12cm, 8cm), p)"
   ]
  },
  {
   "cell_type": "markdown",
   "id": "a569050b",
   "metadata": {},
   "source": []
  },
  {
   "cell_type": "code",
   "execution_count": null,
   "id": "e3ff27fa",
   "metadata": {},
   "outputs": [],
   "source": []
  }
 ],
 "metadata": {
  "kernelspec": {
   "display_name": "Julia 1.7.1",
   "language": "julia",
   "name": "julia-1.7"
  },
  "language_info": {
   "file_extension": ".jl",
   "mimetype": "application/julia",
   "name": "julia",
   "version": "1.7.1"
  }
 },
 "nbformat": 4,
 "nbformat_minor": 5
}
